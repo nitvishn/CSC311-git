{
 "cells": [
  {
   "cell_type": "code",
   "execution_count": 1,
   "metadata": {
    "ExecuteTime": {
     "end_time": "2023-05-30T13:46:25.031906900Z",
     "start_time": "2023-05-30T13:46:23.735034300Z"
    },
    "collapsed": true
   },
   "outputs": [],
   "source": [
    "import graphviz as graphviz\n",
    "import numpy as np\n",
    "from sklearn import tree\n",
    "from sklearn.feature_extraction.text import CountVectorizer\n",
    "from sklearn.model_selection import train_test_split\n",
    "\n",
    "TRAIN_PROPORTION = 0.7\n",
    "TEST_TO_VALIDATE_RATIO = 0.1\n",
    "\n",
    "\n",
    "def load_data():\n",
    "    # load clean data\n",
    "    real_file = open('clean_real.txt', 'r')\n",
    "    fake_file = open('clean_fake.txt', 'r')\n",
    "\n",
    "    # build set of words, and store sentences as list of tokens\n",
    "    real_sentences = [line for line in real_file]\n",
    "    fake_sentences = [line for line in fake_file]\n",
    "    corpus = real_sentences + fake_sentences\n",
    "\n",
    "    # make labels\n",
    "    labels = np.array(['real'] * len(real_sentences) + ['fake'] * len(fake_sentences))\n",
    "\n",
    "    # split the data\n",
    "    X_train, X_test, y_train, y_test = train_test_split(corpus, labels, train_size=TRAIN_PROPORTION)\n",
    "    X_test, X_validate, y_test, y_validate = train_test_split(X_test, y_test,\n",
    "                                                              train_size=TEST_TO_VALIDATE_RATIO)\n",
    "\n",
    "    print(f\"Training, validation, test split: ({len(X_train), len(X_test), len(X_validate)})\")\n",
    "\n",
    "    # vectorize the sentences\n",
    "    vectorizer = CountVectorizer()\n",
    "    X_train = vectorizer.fit_transform(X_train)\n",
    "    X_validate = vectorizer.transform(X_validate)\n",
    "    X_test = vectorizer.transform(X_test)\n",
    "\n",
    "    # return the train, validate, test data and the vectorizer\n",
    "\n",
    "    return (X_train, X_validate, X_test, y_train, y_validate, y_test, vectorizer)\n",
    "\n",
    "\n",
    "def measure_accuracy(test, predicted):\n",
    "    assert len(test) == len(predicted)\n",
    "    tot = 0\n",
    "    correct = 0\n",
    "    for i in range(len(test)):\n",
    "        if test[i] == predicted[i]:\n",
    "            correct += 1\n",
    "        tot += 1\n",
    "    return correct / tot\n",
    "\n",
    "\n",
    "def select_model(x_train, x_validate, X_test, y_train, y_validate, y_test, plot_results=False):\n",
    "    depths = np.arange(50, 300, 50)\n",
    "    criteria = ['gini', 'entropy', 'log_loss']\n",
    "    hyperparams = [(d, c) for d in depths for c in criteria]\n",
    "    val_accuracies = np.zeros((len(criteria), len(depths)))\n",
    "\n",
    "    for i, criterion in enumerate(criteria):\n",
    "        for j, d in enumerate(depths):\n",
    "            clf = tree.DecisionTreeClassifier(max_depth=d, criterion=criterion)\n",
    "            clf = clf.fit(x_train, y_train)\n",
    "\n",
    "            y_validation_prediction = clf.predict(x_validate)\n",
    "\n",
    "            val_accuracies[i, j] = measure_accuracy(y_validate, y_validation_prediction)\n",
    "\n",
    "            print(\n",
    "                f\"Depth {d:3} with {criterion:8} criterion had validation accuracy {measure_accuracy(y_validate, y_validation_prediction):0.5f} \")\n",
    "\n",
    "    best_ind = np.argmax(val_accuracies)\n",
    "\n",
    "    return hyperparams[best_ind]\n",
    "\n",
    "    # fig = plt.figure()\n",
    "    # for criterion in criteria:\n",
    "    #     y_acc = []\n",
    "    #     plt.scatter()"
   ]
  },
  {
   "cell_type": "markdown",
   "metadata": {},
   "source": [
    "## Loading random splits of the data."
   ]
  },
  {
   "cell_type": "code",
   "execution_count": 4,
   "metadata": {},
   "outputs": [
    {
     "name": "stdout",
     "output_type": "stream",
     "text": [
      "Training, validation, test split: ((2286, 98, 882))\n"
     ]
    }
   ],
   "source": [
    "X_train, X_validate, X_test, y_train, y_validate, y_test, vectorizer = load_data()"
   ]
  },
  {
   "cell_type": "markdown",
   "metadata": {},
   "source": [
    "## Selecting a model."
   ]
  },
  {
   "cell_type": "code",
   "execution_count": 2,
   "metadata": {
    "ExecuteTime": {
     "end_time": "2023-05-30T14:08:27.041247800Z",
     "start_time": "2023-05-30T14:08:24.706151300Z"
    }
   },
   "outputs": [
    {
     "name": "stdout",
     "output_type": "stream",
     "text": [
      "Training, validation, test split: ((2286, 98, 882))\n",
      "Depth  50 with gini     criterion had validation accuracy 0.77098 \n",
      "Depth 100 with gini     criterion had validation accuracy 0.78231 \n",
      "Depth 150 with gini     criterion had validation accuracy 0.79025 \n",
      "Depth 200 with gini     criterion had validation accuracy 0.77778 \n",
      "Depth 250 with gini     criterion had validation accuracy 0.76417 \n",
      "Depth  50 with entropy  criterion had validation accuracy 0.78345 \n",
      "Depth 100 with entropy  criterion had validation accuracy 0.77778 \n",
      "Depth 150 with entropy  criterion had validation accuracy 0.77211 \n",
      "Depth 200 with entropy  criterion had validation accuracy 0.78345 \n",
      "Depth 250 with entropy  criterion had validation accuracy 0.78118 \n",
      "Depth  50 with log_loss criterion had validation accuracy 0.76984 \n",
      "Depth 100 with log_loss criterion had validation accuracy 0.76757 \n",
      "Depth 150 with log_loss criterion had validation accuracy 0.77551 \n",
      "Depth 200 with log_loss criterion had validation accuracy 0.77438 \n",
      "Depth 250 with log_loss criterion had validation accuracy 0.77211 \n"
     ]
    }
   ],
   "source": [
    "depth, criterion = select_model(X_train, X_validate, X_test, y_train, y_validate, y_test)"
   ]
  },
  {
   "cell_type": "code",
   "execution_count": 3,
   "metadata": {
    "ExecuteTime": {
     "end_time": "2023-05-30T14:08:29.715170100Z",
     "start_time": "2023-05-30T14:08:29.600351500Z"
    }
   },
   "outputs": [
    {
     "name": "stdout",
     "output_type": "stream",
     "text": [
      "\n",
      "A model trained on the best hyperparameters (depth=50, criterion=log_loss) had test accuracy 0.7448979591836735\n"
     ]
    }
   ],
   "source": [
    "# train a model with the best hyperparameters\n",
    "clf = tree.DecisionTreeClassifier(max_depth=depth, criterion=criterion)\n",
    "\n",
    "clf.fit(X_train, y_train)\n",
    "\n",
    "# report its accuracy on the test dataset\n",
    "\n",
    "y_test_prediction = clf.predict(X_test)\n",
    "acc = measure_accuracy(y_test, y_test_prediction)\n",
    "\n",
    "print(f\"\\nA model trained on the best hyperparameters (depth={depth}, criterion={criterion}) had test accuracy {acc}\")"
   ]
  },
  {
   "cell_type": "code",
   "execution_count": 49,
   "metadata": {
    "ExecuteTime": {
     "end_time": "2023-05-30T03:40:20.501962Z",
     "start_time": "2023-05-30T03:40:20.341843100Z"
    }
   },
   "outputs": [
    {
     "name": "stdout",
     "output_type": "stream",
     "text": [
      "8\n",
      "8\n",
      "None\n"
     ]
    }
   ],
   "source": [
    "def compute_information_gain(X_train, y_train, feature, threshold, vectorizer):\n",
    "\n",
    "    feature_arr = vectorizer.get_feature_names_out()\n",
    "    feature_ind = np.where(feature_arr == feature)[0][0]\n",
    "\n",
    "\n",
    "    data = vectorizer.inverse_transform(X_train)\n",
    "\n",
    "    print(sum([feature in row for row in data]))\n",
    "\n",
    "    arr = X_train[:,feature_ind] >= 0.5\n",
    "\n",
    "    print(arr.sum())\n",
    "\n",
    "\n",
    "    # joint_pdf = np.array([\n",
    "    #     X_train[]\n",
    "    # ])\n",
    "    #\n",
    "    # entropy =\n",
    "\n",
    "    # print(X_train[])\n",
    "\n",
    "    pass\n",
    "\n",
    "print(compute_information_gain(X_train, y_train, \"true\", 0.5, vectorizer))"
   ]
  },
  {
   "cell_type": "code",
   "execution_count": 47,
   "metadata": {
    "ExecuteTime": {
     "end_time": "2023-05-30T03:39:59.556106300Z",
     "start_time": "2023-05-30T03:39:59.550105400Z"
    }
   },
   "outputs": [],
   "source": []
  },
  {
   "cell_type": "code",
   "execution_count": null,
   "metadata": {},
   "outputs": [],
   "source": []
  }
 ],
 "metadata": {
  "kernelspec": {
   "display_name": "Python 3 (ipykernel)",
   "language": "python",
   "name": "python3"
  },
  "language_info": {
   "codemirror_mode": {
    "name": "ipython",
    "version": 3
   },
   "file_extension": ".py",
   "mimetype": "text/x-python",
   "name": "python",
   "nbconvert_exporter": "python",
   "pygments_lexer": "ipython3",
   "version": "3.11.0"
  }
 },
 "nbformat": 4,
 "nbformat_minor": 1
}
